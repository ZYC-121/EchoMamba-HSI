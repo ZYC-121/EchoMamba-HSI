{
 "cells": [
  {
   "cell_type": "code",
   "execution_count": null,
   "metadata": {
    "collapsed": true,
    "ExecuteTime": {
     "start_time": "2025-01-21T09:51:23.273775Z",
     "end_time": "2025-01-21T09:51:23.458347Z"
    }
   },
   "outputs": [],
   "source": [
    "import torch\n",
    "from torch.utils.data import DataLoader, TensorDataset, random_split\n",
    "import pandas as pd\n",
    "from sklearn.model_selection import train_test_split\n",
    "from sklearn.preprocessing import StandardScaler\n",
    "from mamba_ssm import Mamba\n",
    "import numpy as np\n",
    "import scipy.io\n",
    "\n",
    "# Read the characteristic data of HSI\n",
    "mat_file_path = r'.../.mat'\n",
    "\n",
    "mat_data = scipy.io.loadmat(mat_file_path)\n",
    "\n",
    "variable_name = list(mat_data.keys())[-1]\n",
    "\n",
    "data = mat_data[variable_name]\n",
    "\n",
    "print(f\"The dimensions of X is: {data.shape}\")\n",
    "X = data\n",
    "\n",
    "\n",
    "# Read the label data of HSI\n",
    "mat_file_path = r'.../.mat'\n",
    "\n",
    "\n",
    "mat_data = scipy.io.loadmat(mat_file_path)\n",
    "\n",
    "variable_name = list(mat_data.keys())[-1]  # 获取最后一个键名，通常是我们需要的变量名\n",
    "\n",
    "data = mat_data[variable_name]\n",
    "\n",
    "print(f\"The dimensions of Y is: {data.shape}\")\n",
    "Y = data"
   ]
  },
  {
   "cell_type": "code",
   "execution_count": null,
   "outputs": [],
   "source": [
    "flattened_Y = Y.flatten()\n",
    "# Defines the number of HSI label types\n",
    "unique_elements = set(flattened_Y)"
   ],
   "metadata": {
    "collapsed": false
   }
  },
  {
   "cell_type": "code",
   "execution_count": null,
   "outputs": [],
   "source": [
    "# Convert HSI to two-dimensional data\n",
    "X = X.reshape(X.shape[0] * X.shape[1], X.shape[2])\n",
    "Y = Y.reshape(X.shape[0] * X.shape[1], X.shape[2])"
   ],
   "metadata": {
    "collapsed": false,
    "ExecuteTime": {
     "start_time": "2025-01-21T09:51:24.514706Z",
     "end_time": "2025-01-21T09:51:24.557702Z"
    }
   }
  },
  {
   "cell_type": "code",
   "execution_count": null,
   "outputs": [],
   "source": [
    "from sklearn.ensemble import RandomForestClassifier\n",
    "from sklearn.feature_selection import SelectFromModel\n",
    "import numpy as np\n",
    "\n",
    "# Converts a label to a 1-dimensional array\n",
    "Y_pooled_reshaped = Y.ravel()\n",
    "\n",
    "# A random forest classifier was used to evaluate the importance of features\n",
    "clf = RandomForestClassifier(n_estimators=100, random_state=0)\n",
    "clf.fit(X, Y_pooled_reshaped)\n",
    "\n",
    "# Acquired feature importance\n",
    "importances = clf.feature_importances_\n",
    "\n",
    "# Use SelectFromModel to select features that are above average in importance\n",
    "threshold = np.mean(importances)\n",
    "sfm = SelectFromModel(clf, threshold=threshold)\n",
    "\n",
    "# Fits the data to a selector to transform the data set\n",
    "X_important = sfm.fit_transform(X, Y_pooled_reshaped)\n",
    "\n",
    "A = X_important.shape[1]"
   ],
   "metadata": {
    "collapsed": false,
    "ExecuteTime": {
     "start_time": "2025-01-21T09:51:27.496116Z",
     "end_time": "2025-01-21T09:52:12.913435Z"
    }
   }
  },
  {
   "cell_type": "code",
   "execution_count": null,
   "outputs": [],
   "source": [
    "from collections import Counter\n",
    "X = X_important\n",
    "y = Y_pooled_reshaped\n",
    "X.shape\n",
    "print(Counter(y))"
   ],
   "metadata": {
    "collapsed": false,
    "ExecuteTime": {
     "start_time": "2025-01-21T09:52:17.872563Z",
     "end_time": "2025-01-21T09:52:17.890024Z"
    }
   }
  },
  {
   "cell_type": "code",
   "execution_count": null,
   "outputs": [],
   "source": [
    "# Delete samples of class 0 in y and record the number of rows for these samples\n",
    "rows_to_delete = []\n",
    "for index, label in enumerate(y):\n",
    "    if label == 0.0:\n",
    "        rows_to_delete.append(index)\n",
    "\n",
    "# Delete the sample of class 0 in y\n",
    "y_filtered = np.delete(y, rows_to_delete, axis=0)\n",
    "\n",
    "# Delete the corresponding row in X\n",
    "X_filtered = np.delete(X, rows_to_delete, axis=0)"
   ],
   "metadata": {
    "collapsed": false,
    "ExecuteTime": {
     "start_time": "2025-01-21T09:52:19.168813Z",
     "end_time": "2025-01-21T09:52:19.216737Z"
    }
   }
  },
  {
   "cell_type": "code",
   "execution_count": null,
   "outputs": [],
   "source": [
    "# Data preprocessing\n",
    "scaler = StandardScaler()\n",
    "X_scaled = scaler.fit_transform(X_filtered)\n",
    "\n",
    "# Convert data to PyTorch tensor\n",
    "X_tensor = torch.tensor(X_scaled, dtype=torch.float32)\n",
    "y_tensor = torch.tensor(y_filtered, dtype=torch.long)\n",
    "\n",
    "# print(Counter(y_tensor))"
   ],
   "metadata": {
    "collapsed": false,
    "ExecuteTime": {
     "start_time": "2025-01-21T09:52:20.656947Z",
     "end_time": "2025-01-21T09:52:20.695926Z"
    }
   }
  },
  {
   "cell_type": "code",
   "execution_count": null,
   "outputs": [],
   "source": [
    "import numpy as np\n",
    "from imblearn.over_sampling import SMOTE\n",
    "from sklearn.preprocessing import StandardScaler\n",
    "import torch\n",
    "from torch.utils.data import DataLoader, TensorDataset, random_split\n",
    "from collections import Counter\n",
    "\n",
    "# Partition data set\n",
    "train_size = int(0.7 * len(X_tensor))\n",
    "val_size = int(0.2 * len(X_tensor))\n",
    "test_size = len(X_tensor) - train_size - val_size\n",
    "\n",
    "# Split the dataset\n",
    "train_dataset, val_dataset, test_dataset = random_split(TensorDataset(X_tensor, y_tensor), [train_size, val_size, test_size])\n",
    "\n",
    "\n",
    "X_train, y_train = train_dataset.dataset.tensors\n",
    "X_train, y_train = X_train.numpy(), y_train.numpy()\n",
    "\n",
    "# Apply SMOTE only to the training set\n",
    "smote = SMOTE(k_neighbors=2)\n",
    "X_train_smote, y_train_smote = smote.fit_resample(X_train, y_train)\n",
    "\n",
    "\n",
    "# Converts the processed data back to the PyTorch tensor\n",
    "X_train_tensor_smote = torch.tensor(X_train_smote, dtype=torch.float32)\n",
    "y_train_tensor_smote = torch.tensor(y_train_smote, dtype=torch.long)\n",
    "\n",
    "# Create a new TensorDataset\n",
    "train_dataset_smote = TensorDataset(X_train_tensor_smote, y_train_tensor_smote)\n",
    "\n",
    "# Create a DataLoader\n",
    "batch_size = 64\n",
    "train_loader = DataLoader(train_dataset_smote, batch_size=batch_size, shuffle=True)\n",
    "val_loader = DataLoader(val_dataset, batch_size=batch_size, shuffle=True)\n",
    "test_loader = DataLoader(test_dataset, batch_size=batch_size, shuffle=False)"
   ],
   "metadata": {
    "collapsed": false,
    "ExecuteTime": {
     "start_time": "2025-01-21T09:52:24.527886Z",
     "end_time": "2025-01-21T09:52:24.802742Z"
    }
   }
  },
  {
   "cell_type": "code",
   "execution_count": null,
   "outputs": [],
   "source": [
    "import torch\n",
    "import torch.nn as nn\n",
    "import torch.nn.functional as F\n",
    "\n",
    "class CustomMamba(Mamba):\n",
    "    def __init__(self, d_model, d_state, d_conv, expand, cnn_kernel_size, cnn_stride, cnn_padding):\n",
    "        super(CustomMamba, self).__init__(d_model, d_state, d_conv, expand)\n",
    "        self.gcn = GCNConv(in_channels=d_model, out_channels=d_model)\n",
    "        self.linear = nn.Linear(d_model, d_model)\n",
    "\n",
    "    def forward(self, x, edge_index):\n",
    "        batch_size, seq_length, d_model = x.size()\n",
    "        x = x.view(-1, d_model)\n",
    "\n",
    "        x = self.gcn(x, edge_index)\n",
    "\n",
    "        x = self.linear(x)\n",
    "\n",
    "        x = x.view(batch_size, seq_length, d_model)\n",
    "\n",
    "        x = super(CustomMamba, self).forward(x)\n",
    "        return x\n",
    "\n",
    "class GCNConv(nn.Module):\n",
    "    def __init__(self, in_channels, out_channels):\n",
    "        super(GCNConv, self).__init__()\n",
    "        self.linear = nn.Linear(in_channels, out_channels)\n",
    "\n",
    "    def forward(self, x, edge_index):\n",
    "        row, col = edge_index\n",
    "        num_nodes = x.size(0)\n",
    "        adj_matrix = torch.zeros((num_nodes, num_nodes), device=x.device)\n",
    "        adj_matrix[row, col] = 1\n",
    "\n",
    "        x = self.linear(x)\n",
    "        x = torch.matmul(adj_matrix, x)\n",
    "        return F.relu(x)\n",
    "\n",
    "dim = X_tensor.shape[1]\n",
    "model2 = CustomMamba(\n",
    "    d_model=dim,\n",
    "    d_state=16,\n",
    "    d_conv=4,\n",
    "    expand=2,\n",
    "    cnn_kernel_size=3,\n",
    "    cnn_stride=1,\n",
    "    cnn_padding=1\n",
    ").to(\"cuda\")\n",
    "\n",
    "criterion = torch.nn.CrossEntropyLoss()\n",
    "optimizer = torch.optim.Adam(model2.parameters(), lr=0.001)"
   ],
   "metadata": {
    "collapsed": false,
    "ExecuteTime": {
     "start_time": "2025-01-21T09:52:27.226252Z",
     "end_time": "2025-01-21T09:52:27.320160Z"
    }
   }
  },
  {
   "cell_type": "code",
   "execution_count": null,
   "outputs": [],
   "source": [
    "num_epochs = 200\n",
    "for epoch in range(num_epochs):\n",
    "    model2.train()\n",
    "    for inputs, labels in train_loader:\n",
    "        inputs, labels = inputs.to(\"cuda\"), labels.to(\"cuda\")\n",
    "\n",
    "        batch_size = inputs.size(0)\n",
    "        edge_index = torch.stack([\n",
    "            torch.arange(batch_size, device=inputs.device),\n",
    "            torch.arange(batch_size, device=inputs.device)\n",
    "        ], dim=0)\n",
    "\n",
    "        inputs = inputs.unsqueeze(1)  # (batch_size, 1, dim)\n",
    "        outputs = model2(inputs, edge_index)  # 传入edge_index\n",
    "        loss = criterion(outputs.squeeze(1), labels)\n",
    "\n",
    "        optimizer.zero_grad()\n",
    "        loss.backward()\n",
    "        optimizer.step()\n",
    "\n",
    "    model2.eval()\n",
    "    correct = 0\n",
    "    total = 0\n",
    "    with torch.no_grad():\n",
    "        for inputs, labels in train_loader:\n",
    "            inputs, labels = inputs.to(\"cuda\"), labels.to(\"cuda\")\n",
    "\n",
    "            batch_size = inputs.size(0)\n",
    "            edge_index = torch.stack([\n",
    "                torch.arange(batch_size, device=inputs.device),\n",
    "                torch.arange(batch_size, device=inputs.device)\n",
    "            ], dim=0)\n",
    "\n",
    "            inputs = inputs.unsqueeze(1)\n",
    "            outputs = model2(inputs, edge_index)\n",
    "            _, predicted = torch.max(outputs.squeeze(1).data, 1)\n",
    "            total += labels.size(0)\n",
    "            correct += (predicted == labels).sum().item()\n",
    "\n",
    "    print(f'Epoch [{epoch+1}/{num_epochs}], Loss: {loss.item():.4f}, Accuracy: {100 * correct / total}%')"
   ],
   "metadata": {
    "collapsed": false,
    "ExecuteTime": {
     "start_time": "2025-01-21T09:52:29.849492Z",
     "end_time": "2025-01-21T10:08:36.018697Z"
    }
   }
  },
  {
   "cell_type": "code",
   "execution_count": null,
   "outputs": [],
   "source": [
    "from sklearn.metrics import cohen_kappa_score\n",
    "\n",
    "def evaluate_model_with_kappa(model, val_loader, device=\"cuda\"):\n",
    "    \"\"\"\n",
    "    Extended model evaluation function\n",
    "    Parameter：\n",
    "        model\n",
    "        test_loader\n",
    "        device:\n",
    "    return：\n",
    "        accuracy\n",
    "        kappa\n",
    "    \"\"\"\n",
    "    model.eval()\n",
    "    all_labels = []\n",
    "    all_preds = []\n",
    "\n",
    "    with torch.no_grad():\n",
    "        for inputs, labels in val_loader:\n",
    "            inputs = inputs.to(device)\n",
    "            labels = labels.to(device)\n",
    "\n",
    "            batch_size = inputs.size(0)\n",
    "            edge_index = torch.stack([\n",
    "                torch.arange(batch_size, device=device),\n",
    "                torch.arange(batch_size, device=device)\n",
    "            ], dim=0)\n",
    "\n",
    "            inputs = inputs.unsqueeze(1)\n",
    "            outputs = model(inputs, edge_index)\n",
    "\n",
    "            _, predicted = torch.max(outputs.squeeze(1).data, 1)\n",
    "\n",
    "            all_labels.extend(labels.cpu().numpy())\n",
    "            all_preds.extend(predicted.cpu().numpy())\n",
    "\n",
    "    accuracy = 100 * sum(np.array(all_preds) == np.array(all_labels)) / len(all_labels)\n",
    "    kappa = cohen_kappa_score(all_labels, all_preds)\n",
    "\n",
    "    print(f\"Test Accuracy: {accuracy:.2f}%\")\n",
    "    print(f\"Cohen's Kappa: {kappa:.4f}\")\n",
    "\n",
    "    return accuracy, kappa\n",
    "\n",
    "print(\"\\nStarting final evaluation with Kappa...\")\n",
    "test_acc, test_kappa = evaluate_model_with_kappa(model2, val_loader)\n",
    "print(f\"Final Metrics - Accuracy: {test_acc:.2f}% | Kappa: {test_kappa:.4f}\")"
   ],
   "metadata": {
    "collapsed": false,
    "ExecuteTime": {
     "start_time": "2025-01-21T10:33:15.426954Z",
     "end_time": "2025-01-21T10:33:16.434847Z"
    }
   }
  },
  {
   "cell_type": "code",
   "execution_count": null,
   "outputs": [],
   "source": [
    "from sklearn.metrics import cohen_kappa_score, classification_report\n",
    "import numpy as np\n",
    "\n",
    "def evaluate_full_metrics(model, test_loader, device=\"cuda\"):\n",
    "    \"\"\"\n",
    "    Extended model evaluation function\n",
    "    Parameter：\n",
    "        model\n",
    "        test_loader\n",
    "        device:\n",
    "    return：\n",
    "        accuracy\n",
    "        kappa\n",
    "    \"\"\"\n",
    "    model.eval()\n",
    "    all_labels = []\n",
    "    all_preds = []\n",
    "\n",
    "    with torch.no_grad():\n",
    "        for inputs, labels in test_loader:\n",
    "            inputs = inputs.to(device)\n",
    "            labels = labels.to(device)\n",
    "\n",
    "            batch_size = inputs.size(0)\n",
    "            edge_index = torch.stack([\n",
    "                torch.arange(batch_size, device=device),\n",
    "                torch.arange(batch_size, device=device)\n",
    "            ], dim=0)\n",
    "\n",
    "            inputs = inputs.unsqueeze(1)\n",
    "            outputs = model(inputs, edge_index)\n",
    "            _, predicted = torch.max(outputs.squeeze(1).data, 1)\n",
    "\n",
    "            all_labels.extend(labels.cpu().numpy())\n",
    "            all_preds.extend(predicted.cpu().numpy())\n",
    "\n",
    "    true = np.array(all_labels)\n",
    "    pred = np.array(all_preds)\n",
    "\n",
    "    oa = 100 * np.sum(true == pred) / len(true)\n",
    "\n",
    "    unique_classes = np.unique(true)\n",
    "    class_acc = []\n",
    "    for cls in unique_classes:\n",
    "        mask = (true == cls)\n",
    "        if np.sum(mask) > 0:\n",
    "            class_acc.append(np.sum(pred[mask] == cls) / np.sum(mask))\n",
    "    aa = 100 * np.mean(class_acc)\n",
    "\n",
    "    kappa = cohen_kappa_score(true, pred)\n",
    "\n",
    "    report = classification_report(true, pred, output_dict=True)\n",
    "    f1 = 100 * report['macro avg']['f1-score']\n",
    "\n",
    "    # 打印结果\n",
    "    print(f\"OA (Overall Accuracy): {oa:.2f}%\")\n",
    "    print(f\"AA (Average Accuracy): {aa:.2f}%\")\n",
    "    print(f\"Kappa Coefficient: {kappa:.4f}\")\n",
    "    print(f\"Macro F1-Score: {f1:.2f}%\")\n",
    "\n",
    "    return oa, aa, kappa, f1\n",
    "\n",
    "print(\"\\nStarting comprehensive evaluation...\")\n",
    "oa, aa, kappa, f1 = evaluate_full_metrics(model2, test_loader)"
   ],
   "metadata": {
    "collapsed": false,
    "ExecuteTime": {
     "start_time": "2025-01-21T10:33:39.585863Z",
     "end_time": "2025-01-21T10:34:22.677593Z"
    }
   }
  }
 ],
 "metadata": {
  "kernelspec": {
   "display_name": "Python 3",
   "language": "python",
   "name": "python3"
  },
  "language_info": {
   "codemirror_mode": {
    "name": "ipython",
    "version": 2
   },
   "file_extension": ".py",
   "mimetype": "text/x-python",
   "name": "python",
   "nbconvert_exporter": "python",
   "pygments_lexer": "ipython2",
   "version": "2.7.6"
  }
 },
 "nbformat": 4,
 "nbformat_minor": 0
}
